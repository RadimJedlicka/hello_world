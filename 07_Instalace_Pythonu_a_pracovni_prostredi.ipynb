{
  "nbformat": 4,
  "nbformat_minor": 0,
  "metadata": {
    "colab": {
      "name": "07_Instalace-Pythonu-a-pracovni-prostredi.ipynb",
      "provenance": [],
      "authorship_tag": "ABX9TyOsXckWMqe3e5JBfUQWQjA5",
      "include_colab_link": true
    },
    "kernelspec": {
      "name": "python3",
      "display_name": "Python 3"
    },
    "language_info": {
      "name": "python"
    }
  },
  "cells": [
    {
      "cell_type": "markdown",
      "metadata": {
        "id": "view-in-github",
        "colab_type": "text"
      },
      "source": [
        "<a href=\"https://colab.research.google.com/github/RadimJedlicka/hello_world/blob/main/07_Instalace_Pythonu_a_pracovni_prostredi.ipynb\" target=\"_parent\"><img src=\"https://colab.research.google.com/assets/colab-badge.svg\" alt=\"Open In Colab\"/></a>"
      ]
    },
    {
      "cell_type": "code",
      "execution_count": null,
      "metadata": {
        "id": "Knc9luXEWce3"
      },
      "outputs": [],
      "source": [
        ""
      ]
    }
  ]
}